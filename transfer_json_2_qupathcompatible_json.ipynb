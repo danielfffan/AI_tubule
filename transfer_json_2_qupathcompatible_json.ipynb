{
 "cells": [
  {
   "cell_type": "code",
   "execution_count": 1,
   "id": "85d681f3",
   "metadata": {},
   "outputs": [],
   "source": [
    "import json\n",
    "import glob\n",
    "from shapely.geometry import Polygon, MultiPolygon\n",
    "from tqdm import tqdm\n",
    "import csv\n",
    "import os\n",
    "import pandas as pd\n",
    "import numpy as np\n",
    "import json\n",
    "import glob\n",
    "import os\n",
    "import numpy as np"
   ]
  },
  {
   "cell_type": "code",
   "execution_count": 2,
   "id": "3e6e4ef3",
   "metadata": {},
   "outputs": [
    {
     "name": "stdout",
     "output_type": "stream",
     "text": [
      "/Volumes/EXTERNAL_USB 1/AI_tubule/CureGN/USE_TUBULE/2_4807_A_0038331.json\n",
      "/Volumes/EXTERNAL_USB 1/AI_tubule/CureGN/USE_TUBULE/2_4817_A_0038157.json\n",
      "/Volumes/EXTERNAL_USB 1/AI_tubule/CureGN/USE_TUBULE/2_4821_A_0038149.json\n",
      "/Volumes/EXTERNAL_USB 1/AI_tubule/CureGN/USE_TUBULE/2_4888_A_0038033.json\n",
      "/Volumes/EXTERNAL_USB 1/AI_tubule/CureGN/USE_TUBULE/2_4899_A_0043635.json\n",
      "/Volumes/EXTERNAL_USB 1/AI_tubule/CureGN/USE_TUBULE/2_4919_A_0038585.json\n",
      "/Volumes/EXTERNAL_USB 1/AI_tubule/CureGN/USE_TUBULE/2_4943_A_0044755.json\n",
      "/Volumes/EXTERNAL_USB 1/AI_tubule/CureGN/USE_TUBULE/2_4946_A_0039486.json\n"
     ]
    },
    {
     "ename": "KeyboardInterrupt",
     "evalue": "",
     "output_type": "error",
     "traceback": [
      "\u001b[0;31m---------------------------------------------------------------------------\u001b[0m",
      "\u001b[0;31mKeyboardInterrupt\u001b[0m                         Traceback (most recent call last)",
      "\u001b[0;32m<ipython-input-2-c6e20b646665>\u001b[0m in \u001b[0;36m<module>\u001b[0;34m\u001b[0m\n\u001b[1;32m     35\u001b[0m                 \u001b[0mgeojson_features\u001b[0m\u001b[0;34m.\u001b[0m\u001b[0mappend\u001b[0m\u001b[0;34m(\u001b[0m\u001b[0mgeojson_feature\u001b[0m\u001b[0;34m)\u001b[0m\u001b[0;34m\u001b[0m\u001b[0;34m\u001b[0m\u001b[0m\n\u001b[1;32m     36\u001b[0m     \u001b[0;32mwith\u001b[0m \u001b[0mopen\u001b[0m\u001b[0;34m(\u001b[0m\u001b[0;34mf'/Volumes/EXTERNAL_USB 1/AI_tubule/CureGN/USE_TUBULE/qupath/{basename}'\u001b[0m\u001b[0;34m,\u001b[0m \u001b[0;34m'w'\u001b[0m\u001b[0;34m)\u001b[0m \u001b[0;32mas\u001b[0m \u001b[0mf\u001b[0m\u001b[0;34m:\u001b[0m\u001b[0;34m\u001b[0m\u001b[0;34m\u001b[0m\u001b[0m\n\u001b[0;32m---> 37\u001b[0;31m         \u001b[0mjson\u001b[0m\u001b[0;34m.\u001b[0m\u001b[0mdump\u001b[0m\u001b[0;34m(\u001b[0m\u001b[0mgeojson_features\u001b[0m\u001b[0;34m,\u001b[0m \u001b[0mf\u001b[0m\u001b[0;34m)\u001b[0m\u001b[0;34m\u001b[0m\u001b[0;34m\u001b[0m\u001b[0m\n\u001b[0m",
      "\u001b[0;32m~/opt/anaconda3/lib/python3.8/json/__init__.py\u001b[0m in \u001b[0;36mdump\u001b[0;34m(obj, fp, skipkeys, ensure_ascii, check_circular, allow_nan, cls, indent, separators, default, sort_keys, **kw)\u001b[0m\n\u001b[1;32m    178\u001b[0m     \u001b[0;31m# a debuggability cost\u001b[0m\u001b[0;34m\u001b[0m\u001b[0;34m\u001b[0m\u001b[0;34m\u001b[0m\u001b[0m\n\u001b[1;32m    179\u001b[0m     \u001b[0;32mfor\u001b[0m \u001b[0mchunk\u001b[0m \u001b[0;32min\u001b[0m \u001b[0miterable\u001b[0m\u001b[0;34m:\u001b[0m\u001b[0;34m\u001b[0m\u001b[0;34m\u001b[0m\u001b[0m\n\u001b[0;32m--> 180\u001b[0;31m         \u001b[0mfp\u001b[0m\u001b[0;34m.\u001b[0m\u001b[0mwrite\u001b[0m\u001b[0;34m(\u001b[0m\u001b[0mchunk\u001b[0m\u001b[0;34m)\u001b[0m\u001b[0;34m\u001b[0m\u001b[0;34m\u001b[0m\u001b[0m\n\u001b[0m\u001b[1;32m    181\u001b[0m \u001b[0;34m\u001b[0m\u001b[0m\n\u001b[1;32m    182\u001b[0m \u001b[0;34m\u001b[0m\u001b[0m\n",
      "\u001b[0;31mKeyboardInterrupt\u001b[0m: "
     ]
    }
   ],
   "source": [
    "\n",
    "files = glob.glob('/Volumes/EXTERNAL_USB 1/AI_tubule/CureGN/USE_TUBULE/*')\n",
    "cates = ['tubule','lumen','nuclei','te+lumen']\n",
    "for file in files:\n",
    "    print(file)\n",
    "    basename = os.path.basename(file)\n",
    "    geojson_features = []\n",
    "    with open(file, 'r') as file:\n",
    "        data_raw = json.load(file)\n",
    "\n",
    "    # Now `data` is a Python dictionary containing your contours\n",
    "#     print(data_raw)\n",
    "    for data in data_raw:\n",
    "        tubule_info = data_raw[data]\n",
    "        for cate in cates:\n",
    "            primitive_contours = tubule_info[cate][0]['contours']\n",
    "            for contour in primitive_contours:\n",
    "                contour_coords = np.squeeze(contour).tolist()\n",
    "                # contour_coords = [[(c[0]), (c[1]) + y_roi] for c in contour_coords]\n",
    "                contour_coords.append(contour_coords[0])\n",
    "                # Create GeoJSON feature for image contour\n",
    "                geojson_feature = {\n",
    "                    \"type\": \"Feature\",\n",
    "                    \"geometry\": {\n",
    "                        \"type\": \"Polygon\",\n",
    "                        \"coordinates\": [contour_coords]\n",
    "                    },\n",
    "                    \"properties\": {\n",
    "                        \"objectType\": \"annotation\",\n",
    "                        \"classification\": {\n",
    "                            \"name\": f\"{cate}\",\n",
    "                            \"color\": [12, 12, 96]\n",
    "                        }\n",
    "                    }\n",
    "                }\n",
    "                geojson_features.append(geojson_feature)\n",
    "    with open(f'/Volumes/EXTERNAL_USB 1/AI_tubule/CureGN/USE_TUBULE/qupath/{basename}', 'w') as f:\n",
    "        json.dump(geojson_features, f)"
   ]
  },
  {
   "cell_type": "code",
   "execution_count": null,
   "id": "97cdc751",
   "metadata": {},
   "outputs": [],
   "source": []
  }
 ],
 "metadata": {
  "kernelspec": {
   "display_name": "Python 3",
   "language": "python",
   "name": "python3"
  },
  "language_info": {
   "codemirror_mode": {
    "name": "ipython",
    "version": 3
   },
   "file_extension": ".py",
   "mimetype": "text/x-python",
   "name": "python",
   "nbconvert_exporter": "python",
   "pygments_lexer": "ipython3",
   "version": "3.8.8"
  }
 },
 "nbformat": 4,
 "nbformat_minor": 5
}
