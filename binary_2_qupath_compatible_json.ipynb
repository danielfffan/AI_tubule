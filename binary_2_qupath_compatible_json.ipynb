{
 "cells": [
  {
   "cell_type": "markdown",
   "metadata": {},
   "source": [
    "# Goal: Transfer annotations from cortex-level bounding box to WSI-level\n",
    "### Author: Fan Fan\n",
    "### Date: August 22, 2024"
   ]
  },
  {
   "cell_type": "markdown",
   "metadata": {},
   "source": [
    "#### Import packages"
   ]
  },
  {
   "cell_type": "code",
   "execution_count": 1,
   "metadata": {},
   "outputs": [],
   "source": [
    "import os\n",
    "import cv2\n",
    "import argparse\n",
    "import numpy as np\n",
    "import json\n",
    "from skimage import color\n",
    "import openslide\n",
    "import pandas as pd\n",
    "import glob\n",
    "import csv\n",
    "import shutil"
   ]
  },
  {
   "cell_type": "code",
   "execution_count": 10,
   "metadata": {},
   "outputs": [],
   "source": [
    "input_folder = '/Volumes/data/UMich/spatial_transcriptomic/qupath/annotation/'\n",
    "output_folder = '/Volumes/data/UMich/spatial_transcriptomic/qupath/annotation/'\n",
    "resize = 0.25\n",
    "classname = 'TE+TL'"
   ]
  },
  {
   "cell_type": "markdown",
   "metadata": {},
   "source": [
    "#### Get WSI id - change the string as needed"
   ]
  },
  {
   "cell_type": "code",
   "execution_count": 6,
   "metadata": {},
   "outputs": [
    {
     "data": {
      "text/plain": [
       "['Xenium_V1_0021981', 'Xenium_V1_0021980']"
      ]
     },
     "execution_count": 6,
     "metadata": {},
     "output_type": "execute_result"
    }
   ],
   "source": [
    "# Get the list of PNG files from the specified input folder\n",
    "files = glob.glob(f'{input_folder}/*.png')\n",
    "\n",
    "# Extract unique WSI (Whole Slide Image) IDs from filenames\n",
    "wsi_ids = list({os.path.basename(file).split('_PAS')[0] for file in files})\n",
    "\n",
    "# Output the list of unique WSI IDs\n",
    "wsi_ids"
   ]
  },
  {
   "cell_type": "markdown",
   "metadata": {},
   "source": [
    "#### Generate annotation-json file *without* holes"
   ]
  },
  {
   "cell_type": "code",
   "execution_count": 13,
   "metadata": {},
   "outputs": [
    {
     "name": "stdout",
     "output_type": "stream",
     "text": [
      "Processing Xenium_V1_0021981\n",
      "Saved GeoJSON for Xenium_V1_0021981 to /Volumes/data/UMich/spatial_transcriptomic/qupath/annotation//Xenium_V1_0021981.geojson\n",
      "Processing Xenium_V1_0021980\n",
      "Saved GeoJSON for Xenium_V1_0021980 to /Volumes/data/UMich/spatial_transcriptomic/qupath/annotation//Xenium_V1_0021980.geojson\n"
     ]
    }
   ],
   "source": [
    "# Iterate through each unique WSI ID\n",
    "for wsi_id in wsi_ids:\n",
    "    print(f'Processing {wsi_id}')\n",
    "    geoj_features = []  # Initialize list to store GeoJSON features\n",
    "    \n",
    "    # Get all segmentation files corresponding to the current WSI ID\n",
    "    seg_files = glob.glob(f'{input_folder}/{wsi_id}*.png')\n",
    "    \n",
    "    # Process each segmentation file\n",
    "    for seg_file in seg_files:\n",
    "        # Extract x and y coordinates from the filename\n",
    "        x_roi, y_roi = float(seg_file.split('_')[6]), float(seg_file.split('_')[7])\n",
    "        \n",
    "        # Load the binary contour from the PNG file\n",
    "        binary_contour = cv2.imread(seg_file, cv2.IMREAD_GRAYSCALE)\n",
    "        \n",
    "        # Apply binary thresholding to create a binary mask\n",
    "        _, binary_mask = cv2.threshold(binary_contour, 127, 255, cv2.THRESH_BINARY)\n",
    "        \n",
    "        # Find contours in the binary mask\n",
    "        contours, _ = cv2.findContours(binary_mask, cv2.RETR_TREE, cv2.CHAIN_APPROX_SIMPLE)\n",
    "        \n",
    "        # Process each contour\n",
    "        for contour in contours:\n",
    "            # Convert contour coordinates from numpy array to list\n",
    "            contour_coords = np.squeeze(contour).tolist()\n",
    "            contour_coords.append(contour_coords[0])  # Ensure the polygon is closed\n",
    "            \n",
    "            # Scale and translate the coordinates to the original ROI\n",
    "            contour_coords = [[(1 / resize) * (c[0]) + x_roi, (1 / resize) * (c[1]) + y_roi] for c in contour_coords]\n",
    "            \n",
    "            # Ensure the polygon is closed by appending the first point again\n",
    "            contour_coords.append(contour_coords[0])\n",
    "            \n",
    "            # Create a GeoJSON feature for the current contour\n",
    "            geojson_feature = {\n",
    "                \"type\": \"Feature\",\n",
    "                \"geometry\": {\n",
    "                    \"type\": \"Polygon\",\n",
    "                    \"coordinates\": [contour_coords]\n",
    "                },\n",
    "                \"properties\": {\n",
    "                    \"objectType\": \"annotation\",\n",
    "                    \"classification\": {\n",
    "                        \"name\": classname,\n",
    "                        \"color\": [96, 12, 26]\n",
    "                    }\n",
    "                }\n",
    "            }\n",
    "            \n",
    "            # Append the GeoJSON feature to the list of features\n",
    "            geoj_features.append(geojson_feature)\n",
    "    \n",
    "    # Create a GeoJSON object containing all the features\n",
    "    geojson_obj = {\n",
    "        \"type\": \"FeatureCollection\",\n",
    "        \"features\": geoj_features\n",
    "    }\n",
    "    \n",
    "    # Save the GeoJSON object to a file\n",
    "    output_file = f'{output_folder}/{wsi_id}.geojson'\n",
    "    with open(output_file, 'w') as f:\n",
    "        json.dump(geojson_obj, f)\n",
    "\n",
    "    print(f'Saved GeoJSON for {wsi_id} to {output_file}')\n"
   ]
  },
  {
   "cell_type": "code",
   "execution_count": null,
   "metadata": {},
   "outputs": [],
   "source": []
  }
 ],
 "metadata": {
  "kernelspec": {
   "display_name": "Python 3",
   "language": "python",
   "name": "python3"
  },
  "language_info": {
   "codemirror_mode": {
    "name": "ipython",
    "version": 3
   },
   "file_extension": ".py",
   "mimetype": "text/x-python",
   "name": "python",
   "nbconvert_exporter": "python",
   "pygments_lexer": "ipython3",
   "version": "3.10.13"
  }
 },
 "nbformat": 4,
 "nbformat_minor": 2
}
