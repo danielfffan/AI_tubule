{
 "cells": [
  {
   "cell_type": "code",
   "execution_count": 1,
   "id": "f1558ae8",
   "metadata": {},
   "outputs": [],
   "source": [
    "import os\n",
    "import cv2\n",
    "import argparse\n",
    "import numpy as np\n",
    "import json\n",
    "from skimage import color\n",
    "import openslide\n",
    "import pandas as pd\n",
    "import glob\n",
    "import csv\n",
    "import shutil"
   ]
  },
  {
   "cell_type": "code",
   "execution_count": 17,
   "id": "5f001e18",
   "metadata": {},
   "outputs": [],
   "source": [
    "file = '2_6928_A_0038465.png'\n",
    "binary_contour =cv2.imread(file,cv2.IMREAD_GRAYSCALE)\n",
    "binary_mask = cv2.threshold(binary_contour, 127, 255, cv2.THRESH_BINARY)[1]\n",
    "contours, hierarchy  = cv2.findContours(binary_mask, cv2.RETR_TREE, cv2.CHAIN_APPROX_SIMPLE)"
   ]
  },
  {
   "cell_type": "code",
   "execution_count": 44,
   "id": "81a3b2ee",
   "metadata": {},
   "outputs": [
    {
     "name": "stdout",
     "output_type": "stream",
     "text": [
      "Contour 1 - NO parent\n",
      "Contour 2 - NO parent\n",
      "Contour 3 - is the hole of Contour 2\n",
      "Contour 4 - NO parent\n",
      "Contour 5 - is the hole of Contour 4\n",
      "Contour 6 - is the hole of Contour 4\n"
     ]
    }
   ],
   "source": [
    "geojson_features = []\n",
    "contours, hierarchy  = cv2.findContours(binary_mask, cv2.RETR_TREE, cv2.CHAIN_APPROX_SIMPLE)\n",
    "# Loop through the contours\n",
    "for i, contour in enumerate(contours):\n",
    "    if len(contour) > 2:\n",
    "        # Check if the contour has a parent (has hole(s) or not)\n",
    "        if hierarchy[0][i][3] == -1:\n",
    "            print(f'Contour {i} - NO parent')\n",
    "            contour_json = []\n",
    "            # Extract and format contour coordinates\n",
    "            contour_coords = np.squeeze(contour).tolist()\n",
    "            contour_coords.append(contour_coords[0])\n",
    "            contour_coords = [[32 * c[0], 32 * c[1]] for c in contour_coords]\n",
    "            contour_coords.append(contour_coords[0])\n",
    "            contour_json.append(contour_coords)\n",
    "            \n",
    "            # Check for holes within the contour\n",
    "            for j, child_hierarchy in enumerate(hierarchy[0]):\n",
    "                if child_hierarchy[3] == i:\n",
    "                    print(f'Contour {j} - is the hole of Contour {i}')\n",
    "                    contour_coords = np.squeeze(contours[j]).tolist()\n",
    "                    contour_coords.append(contour_coords[0])\n",
    "                    contour_coords = [[32 * c[0], 32 * c[1]] for c in contour_coords]\n",
    "                    contour_coords.append(contour_coords[0])\n",
    "                    contour_json.append(contour_coords)\n",
    "                    \n",
    "            geojson_feature = {\n",
    "                                    \"type\": \"Feature\",\n",
    "                                    \"geometry\": {\n",
    "                                        \"type\": \"Polygon\",\n",
    "                                        \"coordinates\": contour_json\n",
    "                                    },\n",
    "                                    \"properties\": {\n",
    "                                        \"objectType\": \"annotation\",\n",
    "                                        \"classification\": {\n",
    "                                            \"name\": \"Cortex_QCed_new\",\n",
    "                                            \"color\": [29, 9, 7]\n",
    "                                        }\n",
    "                                    }\n",
    "                                }\n",
    "            geojson_features.append(geojson_feature)\n",
    "with open(f'test.json', 'w') as f:\n",
    "    json.dump(geojson_features, f)"
   ]
  }
 ],
 "metadata": {
  "kernelspec": {
   "display_name": "Python 3",
   "language": "python",
   "name": "python3"
  },
  "language_info": {
   "codemirror_mode": {
    "name": "ipython",
    "version": 3
   },
   "file_extension": ".py",
   "mimetype": "text/x-python",
   "name": "python",
   "nbconvert_exporter": "python",
   "pygments_lexer": "ipython3",
   "version": "3.8.8"
  }
 },
 "nbformat": 4,
 "nbformat_minor": 5
}
